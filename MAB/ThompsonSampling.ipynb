{
 "cells": [
  {
   "cell_type": "code",
   "execution_count": 21,
   "metadata": {},
   "outputs": [],
   "source": [
    "import numpy as np\n",
    "import matplotlib\n",
    "from matplotlib import pyplot as plt\n",
    "import matplotlib.gridspec as gridspec\n",
    "from scipy import stats\n",
    "%matplotlib inline"
   ]
  },
  {
   "cell_type": "markdown",
   "metadata": {},
   "source": [
    "### References\n",
    "\n",
    "1. https://github.com/ChadFulton/tsa-notebooks/blob/master/bernoulli_trials_bayesian.ipynb\n",
    "2. https://analyticsindiamag.com/thompson-sampling-explained-with-python-code/"
   ]
  },
  {
   "cell_type": "markdown",
   "metadata": {},
   "source": [
    "### Bernoulli trial\n",
    "\n",
    "Let $y$ be a Bernoulli trial:\n",
    "\n",
    "$y \\sim \\text{Bernoulli}(\\theta) = \\text{Binomial}(1, \\theta)$\n",
    "\n",
    "The probability density function, or marginal likelihood function, is:\n",
    "\n",
    "$$p(y|\\theta) = \\theta^{y} (1-\\theta)^{1-y} = \\begin{cases}\n",
    "\\theta & y = 1 \\\\\n",
    "1 - \\theta & y = 0\n",
    "\\end{cases}$$"
   ]
  },
  {
   "cell_type": "markdown",
   "metadata": {},
   "source": [
    "Bernoulli trials are one of the simplest experimential setups: there are a number of iterations of some activity, where each iteration (or trial) may turn out to be a \"success\" or a \"failure\". From the data on T trials, we want to estimate the probability of \"success\"."
   ]
  },
  {
   "cell_type": "code",
   "execution_count": 16,
   "metadata": {
    "collapsed": false
   },
   "outputs": [],
   "source": [
    "# Simulate data\n",
    "np.random.seed(123)\n",
    "\n",
    "nobs = 100\n",
    "theta = 0.3\n",
    "Y = np.random.binomial(1, theta, nobs)"
   ]
  },
  {
   "cell_type": "code",
   "execution_count": 17,
   "metadata": {
    "collapsed": false
   },
   "outputs": [
    {
     "data": {
      "image/png": "[encoded data removed]",
      "text/plain": [
       "<Figure size 504x216 with 2 Axes>"
      ]
     },
     "metadata": {
      "needs_background": "light"
     },
     "output_type": "display_data"
    }
   ],
   "source": [
    "# Plot the data\n",
    "fig = plt.figure(figsize=(7,3))\n",
    "gs = gridspec.GridSpec(1, 2, width_ratios=[5, 1]) \n",
    "ax1 = fig.add_subplot(gs[0])\n",
    "ax2 = fig.add_subplot(gs[1])\n",
    "\n",
    "ax1.plot(range(nobs), Y, 'x')\n",
    "ax2.hist(-Y, bins=2)\n",
    "\n",
    "ax1.yaxis.set(ticks=(0,1), ticklabels=('Failure', 'Success'))\n",
    "ax2.xaxis.set(ticks=(-1,0), ticklabels=('Success', 'Failure'));\n",
    "\n",
    "ax1.set(title=r'Bernoulli Trial Outcomes $(\\theta=0.3)$', xlabel='Trial', ylim=(-0.2, 1.2))\n",
    "ax2.set(ylabel='Frequency')\n",
    "\n",
    "fig.tight_layout()"
   ]
  },
  {
   "cell_type": "markdown",
   "metadata": {},
   "source": [
    "### Bayesian Estimation\n",
    "\n",
    "Using Bayes' rule:\n",
    "\n",
    "$$p(\\theta|Y) = \\frac{p(Y|\\theta) p(\\theta)}{p(Y)}$$\n",
    "\n",
    "To perform Bayesian estimation, we need to construct the __posterior__ $p(\\theta|Y)$ given:\n",
    "\n",
    "- the (joint) __likelihood__ $P(Y|\\theta)$\n",
    "- the __prior__ $p(\\theta)$\n",
    "- the __marginal probability density function__ $P(Y)$\n",
    "\n",
    "to perform the estimation, we need to specify the functional forms of the likelihood and the prior. The marginal pdf of $Y$ is a constant with respect to $\\theta$, so it does not need to specified for our purposes."
   ]
  },
  {
   "cell_type": "markdown",
   "metadata": {},
   "source": [
    "### Likelihood function\n",
    "\n",
    "Consider a sample of $T$ draws from the random variable $y$. The joint likelihood of observing any specific sample $Y = (y_1, ..., y_T)'$ is given by:\n",
    "\n",
    "$$\n",
    "\\begin{align}\n",
    "p(Y|\\theta) & = \\prod_{i=1}^T \\theta^{y_i} (1-\\theta)^{1-y_i} \\\\\n",
    "& = \\theta^{s} (1 - \\theta)^{T-s}\n",
    "\\end{align}\n",
    "$$\n",
    "\n",
    "where $s = \\sum_i y_i$ is the number of observed \"successes\", and $T-s$ is the number of observed \"failures\"."
   ]
  },
  {
   "cell_type": "markdown",
   "metadata": {},
   "source": [
    "### Prior\n",
    "\n",
    "Since $\\theta$ is a probability value, our prior must respect $\\theta \\in (0,1)$. We will use the (conjugate) Beta prior:\n",
    "\n",
    "$\\theta \\sim \\text{Beta}(\\alpha_1, \\alpha_2)$\n",
    "\n",
    "so that $(\\alpha_1, \\alpha_2)$ are the model's hyperparameters. Then the prior is specified as:\n",
    "\n",
    "$$\n",
    "p(\\theta;\\alpha_1,\\alpha_2) = \\frac{1}{B(\\alpha_1, \\alpha_2)} \\theta^{\\alpha_1-1} (1 - \\theta)^{\\alpha_2 - 1}\n",
    "$$\n",
    "\n",
    "where $B(\\alpha_1, \\alpha_2)$ is the Beta function. Note that to have a fully specified prior, we need to also specify the hyperparameters."
   ]
  },
  {
   "cell_type": "code",
   "execution_count": 63,
   "metadata": {
    "collapsed": false
   },
   "outputs": [
    {
     "name": "stdout",
     "output_type": "stream",
     "text": [
      "Prior mean: 0.5\n"
     ]
    },
    {
     "data": {
      "image/png": "[encoded data removed]",
      "text/plain": [
       "<Figure size 720x288 with 1 Axes>"
      ]
     },
     "metadata": {
      "needs_background": "light"
     },
     "output_type": "display_data"
    }
   ],
   "source": [
    "# For alpha_1 = alpha_2 = 1, the Beta distribution\n",
    "# degenerates to a uniform distribution\n",
    "a1 = 1\n",
    "a2 = 1\n",
    "\n",
    "# Prior Mean\n",
    "prior_mean = a1 / (a1 + a2)\n",
    "print('Prior mean:', prior_mean)\n",
    "\n",
    "# Plot the prior\n",
    "fig = plt.figure(figsize=(10,4))\n",
    "ax = fig.add_subplot(111)\n",
    "X = np.linspace(0,1, 1000)\n",
    "ax.plot(X, stats.beta(a1, a2).pdf(X), 'g');\n",
    "\n",
    "# Cleanup\n",
    "ax.set(title='Prior Distribution', ylim=(0,12))\n",
    "ax.legend(['Prior']);"
   ]
  },
  {
   "cell_type": "markdown",
   "metadata": {},
   "source": [
    "### Posterior\n",
    "\n",
    "#### Analytically\n",
    "\n",
    "Given the prior and the likelihood function, we can try to find the kernel of the posterior analytically. In this case, it will be possible:\n",
    "\n",
    "$$\n",
    "\\begin{align}\n",
    "p(\\theta|Y;\\alpha_1,\\alpha_2) & = \\frac{P(Y|\\theta) P(\\theta)}{P(Y)} \\\\\n",
    "& \\propto P(Y|\\theta) P(\\theta) \\\\\n",
    "& = \\theta^s (1-\\theta)^{T-s} \\frac{1}{B(\\alpha_1, \\alpha_2)} \\theta^{\\alpha_1-1} (1 - \\theta)^{\\alpha_2 - 1} \\\\\n",
    "& \\propto \\theta^{s+\\alpha_1-1} (1 - \\theta)^{T-s+\\alpha_2 - 1} \\\\\n",
    "\\end{align}\n",
    "$$\n",
    "\n",
    "The last line is identifiable as the kernel of a beta distribution with parameters $(\\hat \\alpha_1, \\hat \\alpha_2) = (s+\\alpha_1, T-s+\\alpha_2)$\n",
    "\n",
    "Thus the posterior is given by\n",
    "\n",
    "$$\n",
    "P(\\theta|Y;\\alpha_1,\\alpha_2) = \\frac{1}{B(\\hat \\alpha_1, \\hat \\alpha_2)} \\theta^{\\hat \\alpha_1 - 1} (1-\\theta)^{\\hat \\alpha_2 -1}\n",
    "$$"
   ]
  },
  {
   "cell_type": "code",
   "execution_count": 24,
   "metadata": {
    "collapsed": false
   },
   "outputs": [
    {
     "name": "stdout",
     "output_type": "stream",
     "text": [
      "Posterior Mean (Analytic): 0.22549019607843138\n"
     ]
    },
    {
     "data": {
      "image/png": "[encoded data removed]",
      "text/plain": [
       "<Figure size 720x288 with 1 Axes>"
      ]
     },
     "metadata": {
      "needs_background": "light"
     },
     "output_type": "display_data"
    }
   ],
   "source": [
    "# Find the hyperparameters of the posterior\n",
    "a1_hat = a1 + Y.sum()\n",
    "a2_hat = a2 + nobs - Y.sum()\n",
    "\n",
    "# Posterior Mean\n",
    "post_mean = a1_hat / (a1_hat + a2_hat)\n",
    "print('Posterior Mean (Analytic):', post_mean)\n",
    "\n",
    "# Plot the analytic posterior\n",
    "fig = plt.figure(figsize=(10,4))\n",
    "ax = fig.add_subplot(111)\n",
    "X = np.linspace(0,1, 1000)\n",
    "ax.plot(X, stats.beta(a1_hat, a2_hat).pdf(X), 'r');\n",
    "\n",
    "# Plot the prior\n",
    "ax.plot(X, stats.beta(a1, a2).pdf(X), 'g');\n",
    "\n",
    "# Cleanup\n",
    "ax.set(title='Posterior Distribution (Analytic)', ylim=(0,12))\n",
    "ax.legend(['Posterior (Analytic)', 'Prior']);"
   ]
  },
  {
   "cell_type": "markdown",
   "metadata": {},
   "source": [
    "## Thompson Sampling"
   ]
  },
  {
   "cell_type": "code",
   "execution_count": 68,
   "metadata": {},
   "outputs": [],
   "source": [
    "bandit_probs = [0.1,0.5,0.3,0.8,0.7]\n",
    "data = np.array([stats.bernoulli.rvs(p,size=10000) for p in bandit_probs ]).T"
   ]
  },
  {
   "cell_type": "code",
   "execution_count": 80,
   "metadata": {},
   "outputs": [
    {
     "data": {
      "text/plain": [
       "[0.1034, 0.4992, 0.3018, 0.7957, 0.7026]"
      ]
     },
     "execution_count": 80,
     "metadata": {},
     "output_type": "execute_result"
    }
   ],
   "source": [
    "[np.mean(data[:,i]) for i in range(5)]"
   ]
  },
  {
   "cell_type": "code",
   "execution_count": 86,
   "metadata": {},
   "outputs": [],
   "source": [
    "observations = 10000\n",
    "machines = 5\n",
    "machine_selected = []\n",
    "\n",
    "rewards = [0] * machines\n",
    "penalties = [0] * machines\n",
    "total_reward = 0"
   ]
  },
  {
   "cell_type": "code",
   "execution_count": 88,
   "metadata": {},
   "outputs": [
    {
     "data": {
      "text/plain": [
       "[0, 0, 0, 0, 0]"
      ]
     },
     "execution_count": 88,
     "metadata": {},
     "output_type": "execute_result"
    }
   ],
   "source": [
    "penalties"
   ]
  },
  {
   "cell_type": "code",
   "execution_count": 90,
   "metadata": {},
   "outputs": [
    {
     "data": {
      "text/plain": [
       "array([1, 0, 0, 0, 0])"
      ]
     },
     "execution_count": 90,
     "metadata": {},
     "output_type": "execute_result"
    }
   ],
   "source": [
    "data[1000,:]"
   ]
  },
  {
   "cell_type": "code",
   "execution_count": 91,
   "metadata": {},
   "outputs": [
    {
     "name": "stdout",
     "output_type": "stream",
     "text": [
      "\n",
      "\n",
      "Rewards By Machine =  [0, 12, 1, 7657, 244]\n",
      "\n",
      "Total Rewards =  7914\n"
     ]
    }
   ],
   "source": [
    "for n in range(0, observations):\n",
    "    \n",
    "    bandit = 0\n",
    "    action_prob = np.zeros(machines)\n",
    "    \n",
    "    for i in range(0, machines):\n",
    "        beta_d = random.betavariate(rewards[i] + 1, penalties[i] + 1)\n",
    "        action_prob[i] = beta_d\n",
    "        \n",
    "    max_p = np.max(action_prob)\n",
    "    bandit = np.random.choice(np.where(action_prob == max_p)[0])\n",
    "    \n",
    "        \n",
    "    machine_selected.append(bandit)\n",
    "        \n",
    "    reward = data[n, bandit]\n",
    "    \n",
    "    if reward == 1:\n",
    "        rewards[bandit] = rewards[bandit] + 1\n",
    "    else:\n",
    "        penalties[bandit] = penalties[bandit] + 1\n",
    "\n",
    "    total_reward = total_reward + reward\n",
    "\n",
    "print(\"\\n\\nRewards By Machine = \", rewards)\n",
    "print(\"\\nTotal Rewards = \", total_reward)\n",
    "# print(\"\\nMachine Selected At Each Round By Thompson Sampling : \\n\", machine_selected)"
   ]
  },
  {
   "cell_type": "code",
   "execution_count": 92,
   "metadata": {},
   "outputs": [
    {
     "data": {
      "image/png": "[encoded data removed]",
      "text/plain": [
       "<Figure size 432x288 with 1 Axes>"
      ]
     },
     "metadata": {
      "needs_background": "light"
     },
     "output_type": "display_data"
    }
   ],
   "source": [
    "#Visualizing the rewards of each machine\n",
    "plt.bar(['B1','B2','B3','B4','B5'],rewards)\n",
    "plt.title('MABP')\n",
    "plt.xlabel('Bandits')\n",
    "plt.ylabel('Rewards By Each Machine')\n",
    "plt.show()"
   ]
  },
  {
   "cell_type": "code",
   "execution_count": 93,
   "metadata": {},
   "outputs": [
    {
     "name": "stdout",
     "output_type": "stream",
     "text": [
      "\n",
      "\n",
      "Number Of Times Each Machine Was Selected By The Thompson Sampling Algorithm : \n",
      " {3: 9625, 0: 6, 2: 7, 4: 335, 1: 27}\n"
     ]
    }
   ],
   "source": [
    "#Number Of Times Each Machine Was Selected\n",
    "from collections import Counter\n",
    "print(\"\\n\\nNumber Of Times Each Machine Was Selected By The Thompson Sampling Algorithm : \\n\",dict(Counter(machine_selected)))"
   ]
  },
  {
   "cell_type": "code",
   "execution_count": 94,
   "metadata": {},
   "outputs": [
    {
     "data": {
      "image/png": "[encoded data removed]",
      "text/plain": [
       "<Figure size 432x288 with 1 Axes>"
      ]
     },
     "metadata": {
      "needs_background": "light"
     },
     "output_type": "display_data"
    }
   ],
   "source": [
    "#Visualizing the Number Of Times Each Machine Was Selected\n",
    "plt.hist(machine_selected)\n",
    "plt.title('Histogram of machines selected')\n",
    "plt.xlabel('Bandits')\n",
    "plt.xticks(range(0, 5))\n",
    "plt.ylabel('No. Of Times Each Bandit Was Selected')\n",
    "plt.show()"
   ]
  },
  {
   "cell_type": "code",
   "execution_count": 95,
   "metadata": {},
   "outputs": [
    {
     "data": {
      "text/plain": [
       "[0.0658646172806135,\n",
       " 0.2618861693022717,\n",
       " 0.09741529763385354,\n",
       " 0.7959975107963503,\n",
       " 0.6907208124954906]"
      ]
     },
     "execution_count": 95,
     "metadata": {},
     "output_type": "execute_result"
    }
   ],
   "source": [
    "[random.betavariate(rewards[i]+1,penalties[i]+1) for i in range(5)]"
   ]
  },
  {
   "cell_type": "code",
   "execution_count": 96,
   "metadata": {},
   "outputs": [
    {
     "data": {
      "text/plain": [
       "[0.1, 0.5, 0.3, 0.8, 0.7]"
      ]
     },
     "execution_count": 96,
     "metadata": {},
     "output_type": "execute_result"
    }
   ],
   "source": [
    "bandit_probs"
   ]
  },
  {
   "cell_type": "code",
   "execution_count": null,
   "metadata": {},
   "outputs": [],
   "source": []
  }
 ],
 "metadata": {
  "kernelspec": {
   "display_name": "rl_handson",
   "language": "python",
   "name": "rl_handson"
  },
  "language_info": {
   "codemirror_mode": {
    "name": "ipython",
    "version": 3
   },
   "file_extension": ".py",
   "mimetype": "text/x-python",
   "name": "python",
   "nbconvert_exporter": "python",
   "pygments_lexer": "ipython3",
   "version": "3.7.5"
  }
 },
 "nbformat": 4,
 "nbformat_minor": 2
}
